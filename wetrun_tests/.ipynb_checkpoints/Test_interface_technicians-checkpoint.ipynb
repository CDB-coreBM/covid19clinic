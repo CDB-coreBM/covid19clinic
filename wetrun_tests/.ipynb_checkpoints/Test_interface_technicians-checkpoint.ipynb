{
 "cells": [
  {
   "cell_type": "code",
   "execution_count": null,
   "metadata": {},
   "outputs": [],
   "source": [
    "from __future__ import print_function\n",
    "from ipywidgets import interact, interactive, fixed, interact_manual\n",
    "import ipywidgets as widgets\n",
    "import numpy as np\n",
    "from ipywidgets import *\n",
    "def f(x):\n",
    "    return x\n",
    "user=interactive(f, x=['foo','mec'])\n",
    "num_samples=interactive(f, x=np.arange(1,97,1).tolist())\n",
    "display(user)\n",
    "display(num_samples)\n",
    "print(user.result)\n",
    "print(num_samples.result)\n",
    "def g(user):\n",
    "    return user\n",
    "n=interactive(g, user=['Aitor','Eva','JL'])\n",
    "display(n)"
   ]
  },
  {
   "cell_type": "markdown",
   "metadata": {},
   "source": [
    "### Prueba"
   ]
  },
  {
   "cell_type": "code",
   "execution_count": 185,
   "metadata": {},
   "outputs": [],
   "source": [
    "def rep_data(n,name,f,d):\n",
    "    d=d.replace('$num_samples',str(n))\n",
    "    d=d.replace('$tecnico','\\''+str(name)+'\\'')\n",
    "    d=d.replace('$data','\\''+str(f)+'\\'')\n",
    "    return d\n",
    "\n",
    "ff=False\n",
    "def select_protocol_type(ff):\n",
    "    while ff==False:\n",
    "        protocol=input('Input type of test you would like to run: \\nCustom protocol (OT) or Kingfisher (KF) \\nProtocol type: ')\n",
    "        if protocol=='Kingfisher':\n",
    "            pr=protocol\n",
    "            ff=True\n",
    "        elif protocol=='OT':\n",
    "            pr=protocol\n",
    "            ff=True\n",
    "        else:\n",
    "            print('Please, try again')\n",
    "    return pr\n",
    "\n",
    "def select_station_type(ff,protocol):\n",
    "    while ff==False:\n",
    "        if protocol=='OT':\n",
    "            station=input('Input type of station Opentrons [A,B,C]: ') \n",
    "            if station=='A':\n",
    "                st=station\n",
    "                ff=True\n",
    "                #file='/Users/covid19warriors/Documents/covid19clinic/Homebrew_protocol/Station_A/Station_A_v2.py'\n",
    "                file='Station_A_modify_file.py'\n",
    "            elif station=='B':\n",
    "                st=station\n",
    "                ff=True\n",
    "                file='/Users/covid19warriors/Documents/covid19clinic/Homebrew_protocol/Station_B/Station_B_v5.py'\n",
    "            elif station=='C':\n",
    "                st=station\n",
    "                ff=True\n",
    "                file='/Users/covid19warriors/Documents/covid19clinic/Homebrew_protocol/Station_C/Station_C_multi_pipette.py'\n",
    "            else:\n",
    "                print('Please, try again')\n",
    "        else:\n",
    "            station=input('Input type of station for KingFisher [A,B,C,sample_prep]: ')\n",
    "            if station=='A':\n",
    "                st=station\n",
    "                ff=True\n",
    "                file='/Users/covid19warriors/Documents/covid19clinic/Kingfisher_protocols/KF_pathogen/Station_KA_SampleSetup_pathogen_v1.py'\n",
    "            elif station=='B':\n",
    "                st=station\n",
    "                ff=True \n",
    "                file='/Users/covid19warriors/Documents/covid19clinic/Kingfisher_protocols/KF_pathogen/Station_KB_PlateFilling_pathogen_v1.py'\n",
    "            elif station=='C':\n",
    "                st=station\n",
    "                ff=True\n",
    "                file='/Users/covid19warriors/Documents/covid19clinic/Kingfisher_protocols/KF_pathogen/Station_KC_qPCR_pathogen.py'\n",
    "            elif station=='sample_prep':\n",
    "                st=station\n",
    "                ff=True \n",
    "                file='/Users/covid19warriors/Documents/covid19clinic/Kingfisher_protocols/KF_pathogen/Station_KB_sample_prep_pathogen.py'\n",
    "            else:\n",
    "                print('Please, try again')\n",
    "    return st,file"
   ]
  },
  {
   "cell_type": "code",
   "execution_count": 189,
   "metadata": {},
   "outputs": [
    {
     "name": "stdin",
     "output_type": "stream",
     "text": [
      "Numero de muestras:  48\n",
      "Nombre:  Aitor\n",
      "Input type of test you would like to run: \n",
      "Custom protocol (OT) or Kingfisher (KF) \n",
      "Protocol type:  uy\n"
     ]
    },
    {
     "name": "stdout",
     "output_type": "stream",
     "text": [
      "Please, try again\n"
     ]
    },
    {
     "name": "stdin",
     "output_type": "stream",
     "text": [
      "Input type of test you would like to run: \n",
      "Custom protocol (OT) or Kingfisher (KF) \n",
      "Protocol type:  sdjfsdkljflks\n"
     ]
    },
    {
     "name": "stdout",
     "output_type": "stream",
     "text": [
      "Please, try again\n"
     ]
    },
    {
     "name": "stdin",
     "output_type": "stream",
     "text": [
      "Input type of test you would like to run: \n",
      "Custom protocol (OT) or Kingfisher (KF) \n",
      "Protocol type:  kf\n"
     ]
    },
    {
     "name": "stdout",
     "output_type": "stream",
     "text": [
      "Please, try again\n"
     ]
    },
    {
     "name": "stdin",
     "output_type": "stream",
     "text": [
      "Input type of test you would like to run: \n",
      "Custom protocol (OT) or Kingfisher (KF) \n",
      "Protocol type:  KF\n"
     ]
    },
    {
     "name": "stdout",
     "output_type": "stream",
     "text": [
      "Please, try again\n"
     ]
    },
    {
     "name": "stdin",
     "output_type": "stream",
     "text": [
      "Input type of test you would like to run: \n",
      "Custom protocol (OT) or Kingfisher (KF) \n",
      "Protocol type:  A\n"
     ]
    },
    {
     "name": "stdout",
     "output_type": "stream",
     "text": [
      "Please, try again\n"
     ]
    },
    {
     "name": "stdin",
     "output_type": "stream",
     "text": [
      "Input type of test you would like to run: \n",
      "Custom protocol (OT) or Kingfisher (KF) \n",
      "Protocol type:  OT\n",
      "Input type of station Opentrons [A,B,C]:  A\n"
     ]
    },
    {
     "name": "stdout",
     "output_type": "stream",
     "text": [
      "Selected protocol is OT and selected station A\n",
      "Success!\n"
     ]
    }
   ],
   "source": [
    "num_samples=int(input('Numero de muestras: '))\n",
    "nombre_tecnico=str(input('Nombre: '))\n",
    "fecha=datetime.now()\n",
    "fecha_completa=fecha.strftime(\"%m/%d/%Y, %H:%M:%S\")\n",
    "dia=fecha.strftime(\"%m_%d_%Y\")\n",
    "\n",
    "pr=select_protocol_type(ff)\n",
    "[st,file]=select_station_type(ff,pr)\n",
    "\n",
    "print('Selected protocol is '+pr+ ' and selected station '+st)\n",
    "fin = open(file, \"rt\")\n",
    "protocol = fin.read()\n",
    "fin.close()\n",
    "data = rep_data(num_samples,nombre_tecnico,fecha_completa,protocol)\n",
    "filename=(str(dia)+'_'+'Station_'+pr+'_'+st+'_.py')\n",
    "fout = open(filename, \"wt\")\n",
    "fout.write(data)\n",
    "fout.close()\n",
    "print('Success!')"
   ]
  }
 ],
 "metadata": {
  "kernelspec": {
   "display_name": "Python 3",
   "language": "python",
   "name": "python3"
  },
  "language_info": {
   "codemirror_mode": {
    "name": "ipython",
    "version": 3
   },
   "file_extension": ".py",
   "mimetype": "text/x-python",
   "name": "python",
   "nbconvert_exporter": "python",
   "pygments_lexer": "ipython3",
   "version": "3.7.7"
  }
 },
 "nbformat": 4,
 "nbformat_minor": 4
}
