{
 "cells": [
  {
   "cell_type": "code",
   "execution_count": 3,
   "metadata": {},
   "outputs": [
    {
     "name": "stdout",
     "output_type": "stream",
     "text": [
      "Loading json containers...\n",
      "Json container file load complete, listing database\n",
      "Found 0 containers to add. Starting migration...\n",
      "Database migration complete!\n",
      "/Users/covid19warriors/.opentrons/deck_calibration.json not found. Loading defaults\n",
      "/Users/covid19warriors/.opentrons/robot_settings.json not found. Loading defaults\n",
      "usage: opentrons_simulate [-h] [-l {debug,info,warning,error,none}]\n",
      "                          [-L CUSTOM_LABWARE_PATH] [-D [CUSTOM_DATA_PATH]]\n",
      "                          [-d CUSTOM_DATA_FILE] [-v] [-o {runlog,nothing}]\n",
      "                          PROTOCOL\n",
      "opentrons_simulate: error: argument PROTOCOL: can't open 'Desktop/COVIDWARRIORS-Hospital_clinic/PROTOCOLS/Station_A/v0_station_a_S2.ot2.apiv2.py': [Errno 2] No such file or directory: 'Desktop/COVIDWARRIORS-Hospital_clinic/PROTOCOLS/Station_A/v0_station_a_S2.ot2.apiv2.py'\n"
     ]
    }
   ],
   "source": [
    "!opentrons_simulate Desktop/COVIDWARRIORS-Hospital_clinic/PROTOCOLS/Station_A/v0_station_a_S2.ot2.apiv2.py"
   ]
  },
  {
   "cell_type": "code",
   "execution_count": 4,
   "metadata": {},
   "outputs": [],
   "source": [
    "gpio."
   ]
  },
  {
   "cell_type": "code",
   "execution_count": 1,
   "metadata": {},
   "outputs": [
    {
     "name": "stderr",
     "output_type": "stream",
     "text": [
      "/Users/covid19warriors/.opentrons/deck_calibration.json not found. Loading defaults\n",
      "/Users/covid19warriors/.opentrons/robot_settings.json not found. Loading defaults\n"
     ]
    },
    {
     "name": "stdout",
     "output_type": "stream",
     "text": [
      "Loading json containers...\n",
      "Json container file load complete, listing database\n",
      "Found 0 containers to add. Starting migration...\n",
      "Database migration complete!\n"
     ]
    }
   ],
   "source": [
    "from opentrons import robot, instruments, containers\n",
    "robot.reset()\n",
    "plate = containers.load('usascientific_96_wellplate_2.4ml_deep', '2', share=True)\n",
    "tiprack = containers.load('opentrons_96_filtertiprack_20ul', '1', share=True)\n",
    "\n",
    "# pipettes\n",
    "pipette = instruments.P20_Single_GEN2('right', tip_racks=[tiprack])\n",
    "# commands\n",
    "pipette.transfer(100, plate.wells('A1'), plate.wells('B1'))\n",
    "robot.home()"
   ]
  },
  {
   "cell_type": "code",
   "execution_count": 38,
   "metadata": {},
   "outputs": [
    {
     "data": {
      "text/plain": [
       "['Transferring 100.0 from well A1 in \"2\" to well B1 in \"2\"',\n",
       " 'Picking up tip from well A1 in \"1\"',\n",
       " 'Aspirating 20.0 uL from well A1 in \"2\" at 1 speed',\n",
       " 'Dispensing 20.0 uL into well B1 in \"2\" at 1 speed',\n",
       " 'Aspirating 20.0 uL from well A1 in \"2\" at 1 speed',\n",
       " 'Dispensing 20.0 uL into well B1 in \"2\" at 1 speed',\n",
       " 'Aspirating 20.0 uL from well A1 in \"2\" at 1 speed',\n",
       " 'Dispensing 20.0 uL into well B1 in \"2\" at 1 speed',\n",
       " 'Aspirating 20.0 uL from well A1 in \"2\" at 1 speed',\n",
       " 'Dispensing 20.0 uL into well B1 in \"2\" at 1 speed',\n",
       " 'Aspirating 20.0 uL from well A1 in \"2\" at 1 speed',\n",
       " 'Dispensing 20.0 uL into well B1 in \"2\" at 1 speed',\n",
       " 'Dropping tip into well A1 in \"12\"']"
      ]
     },
     "execution_count": 38,
     "metadata": {},
     "output_type": "execute_result"
    }
   ],
   "source": [
    "robot.commands()"
   ]
  },
  {
   "cell_type": "code",
   "execution_count": 40,
   "metadata": {},
   "outputs": [
    {
     "data": {
      "text/plain": [
       "<opentrons.legacy_api.instruments.pipette.Pipette at 0x11bba1850>"
      ]
     },
     "execution_count": 40,
     "metadata": {},
     "output_type": "execute_result"
    }
   ],
   "source": [
    "instruments.pipette_by_name('left','p20_single_gen2')"
   ]
  },
  {
   "cell_type": "code",
   "execution_count": 42,
   "metadata": {},
   "outputs": [],
   "source": [
    "a=robot.head_speed()"
   ]
  },
  {
   "cell_type": "code",
   "execution_count": 44,
   "metadata": {},
   "outputs": [
    {
     "data": {
      "text/plain": [
       "{'button': False, 'rails': False}"
      ]
     },
     "execution_count": 44,
     "metadata": {},
     "output_type": "execute_result"
    }
   ],
   "source": [
    "robot.get_lights()"
   ]
  },
  {
   "cell_type": "code",
   "execution_count": 45,
   "metadata": {},
   "outputs": [],
   "source": [
    "robot.set_lights(button=False)"
   ]
  },
  {
   "cell_type": "code",
   "execution_count": 1,
   "metadata": {},
   "outputs": [
    {
     "name": "stderr",
     "output_type": "stream",
     "text": [
      "/Users/covid19warriors/.opentrons/deck_calibration.json not found. Loading defaults\n",
      "/Users/covid19warriors/.opentrons/robot_settings.json not found. Loading defaults\n"
     ]
    },
    {
     "name": "stdout",
     "output_type": "stream",
     "text": [
      "Loading json containers...\n",
      "Json container file load complete, listing database\n",
      "Found 0 containers to add. Starting migration...\n",
      "Database migration complete!\n"
     ]
    },
    {
     "data": {
      "text/plain": [
       "False"
      ]
     },
     "execution_count": 1,
     "metadata": {},
     "output_type": "execute_result"
    }
   ],
   "source": [
    "from opentrons.drivers.rpi_drivers import gpio\n",
    "gpio.read_window_switches()"
   ]
  },
  {
   "cell_type": "code",
   "execution_count": 2,
   "metadata": {},
   "outputs": [
    {
     "data": {
      "text/plain": [
       "<bound method Robot.is_connected of <opentrons.legacy_api.robot.robot.Robot object at 0x1160f5cd0>>"
      ]
     },
     "execution_count": 2,
     "metadata": {},
     "output_type": "execute_result"
    }
   ],
   "source": [
    "robot.is_connected"
   ]
  },
  {
   "cell_type": "code",
   "execution_count": 7,
   "metadata": {},
   "outputs": [
    {
     "ename": "SyntaxError",
     "evalue": "invalid syntax (<ipython-input-7-52469fdf720c>, line 1)",
     "output_type": "error",
     "traceback": [
      "\u001b[0;36m  File \u001b[0;32m\"<ipython-input-7-52469fdf720c>\"\u001b[0;36m, line \u001b[0;32m1\u001b[0m\n\u001b[0;31m    ._opentrons\u001b[0m\n\u001b[0m    ^\u001b[0m\n\u001b[0;31mSyntaxError\u001b[0m\u001b[0;31m:\u001b[0m invalid syntax\n"
     ]
    }
   ],
   "source": [
    "opentrons.drivers."
   ]
  },
  {
   "cell_type": "code",
   "execution_count": 1,
   "metadata": {},
   "outputs": [
    {
     "ename": "ModuleNotFoundError",
     "evalue": "No module named 'pytablewriter'",
     "output_type": "error",
     "traceback": [
      "\u001b[0;31m---------------------------------------------------------------------------\u001b[0m",
      "\u001b[0;31mModuleNotFoundError\u001b[0m                       Traceback (most recent call last)",
      "\u001b[0;32m<ipython-input-1-95e5ab42c2d7>\u001b[0m in \u001b[0;36m<module>\u001b[0;34m\u001b[0m\n\u001b[0;32m----> 1\u001b[0;31m \u001b[0;32mfrom\u001b[0m \u001b[0mpytablewriter\u001b[0m \u001b[0;32mimport\u001b[0m \u001b[0mMarkdownTableWriter\u001b[0m\u001b[0;34m\u001b[0m\u001b[0;34m\u001b[0m\u001b[0m\n\u001b[0m\u001b[1;32m      2\u001b[0m \u001b[0;32mimport\u001b[0m \u001b[0mjson\u001b[0m\u001b[0;34m\u001b[0m\u001b[0;34m\u001b[0m\u001b[0m\n\u001b[1;32m      3\u001b[0m \u001b[0;34m\u001b[0m\u001b[0m\n\u001b[1;32m      4\u001b[0m \u001b[0mpath\u001b[0m\u001b[0;34m=\u001b[0m\u001b[0;34mr'/Users/covid19warriors/Documents/covid19clinic/Station_B/station_b_log_17_4_2020.json'\u001b[0m\u001b[0;34m\u001b[0m\u001b[0;34m\u001b[0m\u001b[0m\n\u001b[1;32m      5\u001b[0m \u001b[0;34m\u001b[0m\u001b[0m\n",
      "\u001b[0;31mModuleNotFoundError\u001b[0m: No module named 'pytablewriter'"
     ]
    }
   ],
   "source": [
    "from pytablewriter import MarkdownTableWriter\n",
    "import json\n",
    "\n",
    "path=r'/Users/covid19warriors/Documents/covid19clinic/Station_B/station_b_log_17_4_2020.json'\n",
    "\n",
    "data=json.loads(path)\n"
   ]
  },
  {
   "cell_type": "code",
   "execution_count": 2,
   "metadata": {},
   "outputs": [],
   "source": [
    "import opentrons"
   ]
  },
  {
   "cell_type": "code",
   "execution_count": null,
   "metadata": {},
   "outputs": [],
   "source": [
    "opentrons.drivers."
   ]
  }
 ],
 "metadata": {
  "kernelspec": {
   "display_name": "Python 3",
   "language": "python",
   "name": "python3"
  },
  "language_info": {
   "codemirror_mode": {
    "name": "ipython",
    "version": 3
   },
   "file_extension": ".py",
   "mimetype": "text/x-python",
   "name": "python",
   "nbconvert_exporter": "python",
   "pygments_lexer": "ipython3",
   "version": "3.7.6"
  }
 },
 "nbformat": 4,
 "nbformat_minor": 4
}
